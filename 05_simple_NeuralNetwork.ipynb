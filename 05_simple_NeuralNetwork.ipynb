{
  "nbformat": 4,
  "nbformat_minor": 0,
  "metadata": {
    "colab": {
      "provenance": [],
      "gpuType": "T4",
      "authorship_tag": "ABX9TyPobdG0N14wgwmz5d63DKmY",
      "include_colab_link": true
    },
    "kernelspec": {
      "name": "python3",
      "display_name": "Python 3"
    },
    "language_info": {
      "name": "python"
    },
    "accelerator": "GPU"
  },
  "cells": [
    {
      "cell_type": "markdown",
      "metadata": {
        "id": "view-in-github",
        "colab_type": "text"
      },
      "source": [
        "<a href=\"https://colab.research.google.com/github/DTheArtist/pytorch/blob/main/05_simple_NeuralNetwork.ipynb\" target=\"_parent\"><img src=\"https://colab.research.google.com/assets/colab-badge.svg\" alt=\"Open In Colab\"/></a>"
      ]
    },
    {
      "cell_type": "markdown",
      "source": [
        "# Neural Network\n",
        "* A neural network is a machine learning (ML) model that uses a network of interconnected nodes to process data in a way that mimics the human brain\n",
        "* [Visualization of a Neural Network](https://miro.medium.com/v2/resize:fit:857/1*n7TZqrCvYoVKZ7QMTN-jjQ.png)\n",
        "* Input Layer, Hidden Layers, Outpur Layer"
      ],
      "metadata": {
        "id": "tbb1VCsz-2MW"
      }
    },
    {
      "cell_type": "code",
      "execution_count": 5,
      "metadata": {
        "id": "XQxsuqEn9tvc"
      },
      "outputs": [],
      "source": [
        "import torch\n",
        "import torch.nn as nn\n",
        "import torch.nn.functional as F"
      ]
    },
    {
      "cell_type": "code",
      "source": [
        "# Create a Model Class that inherits nn.Module\n",
        "class Model(nn.Module):\n",
        "  # import Layer (4 features of the flower) -->\n",
        "  # Hidden Layer1 (number of neurons) -->\n",
        "  # H2 (n) -->\n",
        "  # output (3 classes of iris flower)\n",
        "  def __init__(self, in_features=4, h1=8, h2=9, out_features=3):\n",
        "        super().__init__() #instantiate the nn.model always do this\n",
        "        self.fc1 = nn.Linear(in_features, h1)\n",
        "        self.fc2 = nn.Linear(h1, h2)\n",
        "        self.out = nn.Linear(h2, out_features)\n",
        "\n",
        "  # Now a funtion the moves everything forward\n",
        "  # relu\n",
        "  def forward(self, x):\n",
        "        x = F.relu(self.fc1(x))\n",
        "        x = F.relu(self.fc2(x))\n",
        "        x = self.out(x)\n",
        "\n",
        "        return x"
      ],
      "metadata": {
        "id": "--HsLO0Q_qmk"
      },
      "execution_count": 12,
      "outputs": []
    },
    {
      "cell_type": "markdown",
      "source": [
        "## ReLU\n",
        "* short for rectified linear unit, is a non-linear activation function used in machine learning to train deep neural networks. It's also known as the rectifier activation function."
      ],
      "metadata": {
        "id": "sbLpqzCoBw0u"
      }
    },
    {
      "cell_type": "code",
      "source": [
        "# Need to create a SEED\n",
        "#Pick and manual seed for randomization\n",
        "torch.manual_seed(38)\n",
        "\n",
        "# Create an instance of the model\n",
        "model = Model()\n",
        "#This starts the whole thing up."
      ],
      "metadata": {
        "id": "PT-qk4z5Apdj"
      },
      "execution_count": 13,
      "outputs": []
    },
    {
      "cell_type": "markdown",
      "source": [
        "Stopped at Codemy.com Channel \"Deep Learning with PyTorch\" video 5\n",
        "next video 6 \"Load Data and Train..."
      ],
      "metadata": {
        "id": "yMbtzg2ZDHHZ"
      }
    },
    {
      "cell_type": "code",
      "source": [],
      "metadata": {
        "id": "MdwFa4fNDGbY"
      },
      "execution_count": null,
      "outputs": []
    }
  ]
}