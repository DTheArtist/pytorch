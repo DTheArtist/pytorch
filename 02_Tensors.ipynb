{
  "nbformat": 4,
  "nbformat_minor": 0,
  "metadata": {
    "colab": {
      "provenance": [],
      "gpuType": "T4",
      "authorship_tag": "ABX9TyMeeXy1U5HX2cuRsC55mInO",
      "include_colab_link": true
    },
    "kernelspec": {
      "name": "python3",
      "display_name": "Python 3"
    },
    "language_info": {
      "name": "python"
    },
    "accelerator": "GPU"
  },
  "cells": [
    {
      "cell_type": "markdown",
      "metadata": {
        "id": "view-in-github",
        "colab_type": "text"
      },
      "source": [
        "<a href=\"https://colab.research.google.com/github/DTheArtist/pytorch/blob/main/Tensors.ipynb\" target=\"_parent\"><img src=\"https://colab.research.google.com/assets/colab-badge.svg\" alt=\"Open In Colab\"/></a>"
      ]
    },
    {
      "cell_type": "markdown",
      "source": [
        "## Tensors\n",
        "*   A torch. Tensor is a Multi-demensional matrix containing elements of a single data type\n",
        "*   Similar to Numpy Arrays, but full of fun things that make them work better on GPU's vs regular CPU's\n",
        "* default datat ype of float32.\n",
        "*More suitable for deep learning than a numpy array.\n",
        "* Holds the data you need to do anything. Made for the power of using a GPU.\n",
        "\n",
        "\n"
      ],
      "metadata": {
        "id": "RaILIfnXvSkV"
      }
    },
    {
      "cell_type": "code",
      "execution_count": 1,
      "metadata": {
        "id": "hfeVZ3S3vD4t"
      },
      "outputs": [],
      "source": [
        "import torch\n",
        "import numpy as np"
      ]
    },
    {
      "cell_type": "markdown",
      "source": [
        "# Lists"
      ],
      "metadata": {
        "id": "nqZx4ZHJwuQY"
      }
    },
    {
      "cell_type": "code",
      "source": [
        "my_list = [1,2,3,4,5],[6,7,8,9,10]\n",
        "my_list"
      ],
      "metadata": {
        "colab": {
          "base_uri": "https://localhost:8080/"
        },
        "id": "0J-ekg61ww7k",
        "outputId": "a2391b39-df82-4577-ff08-b75b661972fa"
      },
      "execution_count": 4,
      "outputs": [
        {
          "output_type": "execute_result",
          "data": {
            "text/plain": [
              "([1, 2, 3, 4, 5], [6, 7, 8, 9, 10])"
            ]
          },
          "metadata": {},
          "execution_count": 4
        }
      ]
    },
    {
      "cell_type": "markdown",
      "source": [
        "#Numpy Array"
      ],
      "metadata": {
        "id": "MxaUCFXdxANm"
      }
    },
    {
      "cell_type": "code",
      "source": [
        "np1 = np.random.rand(3,4)\n",
        "np1"
      ],
      "metadata": {
        "colab": {
          "base_uri": "https://localhost:8080/"
        },
        "id": "RlvxVGFAxIKJ",
        "outputId": "0b69ccea-34bc-4aa8-d2b4-2e8756e03a0f"
      },
      "execution_count": 7,
      "outputs": [
        {
          "output_type": "execute_result",
          "data": {
            "text/plain": [
              "array([[0.3443395 , 0.60369989, 0.61069783, 0.36199046],\n",
              "       [0.29764844, 0.23676436, 0.68075763, 0.19536826],\n",
              "       [0.44881217, 0.94869218, 0.48303521, 0.8887838 ]])"
            ]
          },
          "metadata": {},
          "execution_count": 7
        }
      ]
    },
    {
      "cell_type": "markdown",
      "source": [
        "#Tensors"
      ],
      "metadata": {
        "id": "CvqdX3uGxX-G"
      }
    },
    {
      "cell_type": "code",
      "source": [
        "tensor_2d = torch.randn(3,4)\n",
        "tensor_2d\n",
        "#tensor_2d.dtype"
      ],
      "metadata": {
        "colab": {
          "base_uri": "https://localhost:8080/"
        },
        "id": "OtPos1E2xayV",
        "outputId": "a4d796bf-b94d-41d1-e720-b3f7d5d71a5c"
      },
      "execution_count": 13,
      "outputs": [
        {
          "output_type": "execute_result",
          "data": {
            "text/plain": [
              "tensor([[ 0.9106, -0.7111, -1.2760, -1.4182],\n",
              "        [ 0.9911, -0.2477, -1.5711, -1.3748],\n",
              "        [-0.4094,  0.2479,  1.7489, -2.2333]])"
            ]
          },
          "metadata": {},
          "execution_count": 13
        }
      ]
    },
    {
      "cell_type": "code",
      "source": [
        "## Creat tensor out of numpy array\n",
        "my_tensor = torch.tensor(np1)\n",
        "my_tensor"
      ],
      "metadata": {
        "colab": {
          "base_uri": "https://localhost:8080/"
        },
        "id": "x0jlAUq2x3DI",
        "outputId": "59ef30f3-3d92-4b6b-dd42-090a9560255d"
      },
      "execution_count": 11,
      "outputs": [
        {
          "output_type": "execute_result",
          "data": {
            "text/plain": [
              "tensor([[0.3443, 0.6037, 0.6107, 0.3620],\n",
              "        [0.2976, 0.2368, 0.6808, 0.1954],\n",
              "        [0.4488, 0.9487, 0.4830, 0.8888]], dtype=torch.float64)"
            ]
          },
          "metadata": {},
          "execution_count": 11
        }
      ]
    },
    {
      "cell_type": "code",
      "source": [
        "tensor_3d = torch.zeros(2,3,4)\n",
        "tensor_3d"
      ],
      "metadata": {
        "colab": {
          "base_uri": "https://localhost:8080/"
        },
        "id": "XFwk5Xjoxrfk",
        "outputId": "6cfe37cb-3071-4992-b1b8-95530c12017b"
      },
      "execution_count": 10,
      "outputs": [
        {
          "output_type": "execute_result",
          "data": {
            "text/plain": [
              "tensor([[[0., 0., 0., 0.],\n",
              "         [0., 0., 0., 0.],\n",
              "         [0., 0., 0., 0.]],\n",
              "\n",
              "        [[0., 0., 0., 0.],\n",
              "         [0., 0., 0., 0.],\n",
              "         [0., 0., 0., 0.]]])"
            ]
          },
          "metadata": {},
          "execution_count": 10
        }
      ]
    },
    {
      "cell_type": "markdown",
      "source": [
        "To Learn More or reference visit: https://pytorch.org/docs/main/tensors.html#"
      ],
      "metadata": {
        "id": "HhNXGM60ybB_"
      }
    }
  ]
}
